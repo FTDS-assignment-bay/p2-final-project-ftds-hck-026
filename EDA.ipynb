{
 "cells": [
  {
   "cell_type": "markdown",
   "id": "5af813b2",
   "metadata": {},
   "source": [
    "# Introduction and Objective\n",
    "\n",
    "======================================================\n",
    "\n",
    "Group : 01 FTDS-026-HCK\n",
    "\n",
    "======================================================\n",
    "\n",
    "Objective :"
   ]
  },
  {
   "cell_type": "markdown",
   "id": "f8f36e7f",
   "metadata": {},
   "source": [
    "## Background"
   ]
  },
  {
   "cell_type": "markdown",
   "id": "e3b475e9",
   "metadata": {},
   "source": [
    "## Dataset Description\n",
    "\n",
    "Source: https://www.kaggle.com/datasets/orvile/x-ray-baggage-anomaly-detection/data"
   ]
  },
  {
   "cell_type": "markdown",
   "id": "9aec7e22",
   "metadata": {},
   "source": [
    "## Import Libraries"
   ]
  },
  {
   "cell_type": "code",
   "execution_count": 59,
   "id": "d7b658f2",
   "metadata": {},
   "outputs": [],
   "source": [
    "# Import Libraries\n",
    "import os\n",
    "import pandas as pd\n",
    "import numpy as np\n",
    "import matplotlib.pyplot as plt\n",
    "import seaborn as sns\n",
    "import tensorflow as tf\n",
    "from PIL import Image\n",
    "\n",
    "from ultralytics import YOLO"
   ]
  },
  {
   "cell_type": "code",
   "execution_count": null,
   "id": "2a2dd361",
   "metadata": {},
   "outputs": [],
   "source": []
  },
  {
   "cell_type": "code",
   "execution_count": 60,
   "id": "d247cf0e",
   "metadata": {},
   "outputs": [
    {
     "name": "stdout",
     "output_type": "stream",
     "text": [
      "d:\\Hactive\\fase_2\\finpro\\p2-final-project-ftds-hck-026\n"
     ]
    }
   ],
   "source": [
    "import os\n",
    "print(os.getcwd())\n"
   ]
  },
  {
   "cell_type": "code",
   "execution_count": 61,
   "id": "05af8e06",
   "metadata": {},
   "outputs": [],
   "source": [
    "# Memuat data load\n",
    "data_path_train = 'dataset/train'\n",
    "data_path_valid = 'dataset/valid'\n",
    "data_path_test = 'dataset/test'"
   ]
  },
  {
   "cell_type": "code",
   "execution_count": 63,
   "id": "0178d987",
   "metadata": {},
   "outputs": [
    {
     "name": "stdout",
     "output_type": "stream",
     "text": [
      "Found 6181 files belonging to 2 classes.\n",
      "Class 0 → images\n",
      "Class 1 → labels\n"
     ]
    }
   ],
   "source": [
    "# Load dataset hanya untuk ambil class_names\n",
    "ds_temp = tf.keras.utils.image_dataset_from_directory(\n",
    "    'dataset/train',\n",
    "    image_size=(128, 128),\n",
    "    batch_size=32\n",
    ")\n",
    "# Tampilkan mapping antara indeks dan nama kelas\n",
    "for idx, class_name in enumerate(ds_temp.class_names):\n",
    "    print(f\"Class {idx} → {class_name}\")\n"
   ]
  },
  {
   "cell_type": "code",
   "execution_count": 64,
   "id": "6ad2e117",
   "metadata": {},
   "outputs": [],
   "source": [
    "# Check how many data in `train_path`, `valid_path`  and `test_path`\n",
    "def check_path(path):\n",
    "  labels = os.listdir(path)\n",
    "  for label in labels:\n",
    "    num_data = len(os.listdir(os.path.join(path, label)))\n",
    "    print(f'Total Data - {label} : {num_data}')\n"
   ]
  },
  {
   "cell_type": "code",
   "execution_count": 65,
   "id": "55da66dc",
   "metadata": {},
   "outputs": [
    {
     "name": "stdout",
     "output_type": "stream",
     "text": [
      "Total Data - images : 6181\n",
      "Total Data - labels : 6181\n"
     ]
    }
   ],
   "source": [
    "# Menampilkan hasil data train\n",
    "check_path(data_path_train)"
   ]
  },
  {
   "cell_type": "code",
   "execution_count": 66,
   "id": "23f3d2c0",
   "metadata": {},
   "outputs": [
    {
     "name": "stdout",
     "output_type": "stream",
     "text": [
      "Total Data - images : 1766\n",
      "Total Data - labels : 1766\n"
     ]
    }
   ],
   "source": [
    "# Menampilkan hasil data valid\n",
    "check_path(data_path_valid)"
   ]
  },
  {
   "cell_type": "code",
   "execution_count": null,
   "id": "284d7aa9",
   "metadata": {},
   "outputs": [],
   "source": []
  },
  {
   "cell_type": "code",
   "execution_count": null,
   "id": "561c3e22",
   "metadata": {},
   "outputs": [
    {
     "ename": "FileNotFoundError",
     "evalue": "[Errno 2] No such file or directory: 'data.yaml'",
     "output_type": "error",
     "traceback": [
      "\u001b[1;31m---------------------------------------------------------------------------\u001b[0m",
      "\u001b[1;31mFileNotFoundError\u001b[0m                         Traceback (most recent call last)",
      "Cell \u001b[1;32mIn[58], line 5\u001b[0m\n\u001b[0;32m      1\u001b[0m \u001b[38;5;28;01mimport\u001b[39;00m \u001b[38;5;21;01myaml\u001b[39;00m\n\u001b[0;32m      3\u001b[0m path_yaml \u001b[38;5;241m=\u001b[39m \u001b[38;5;124m'\u001b[39m\u001b[38;5;124mdata.yaml\u001b[39m\u001b[38;5;124m'\u001b[39m \u001b[38;5;66;03m# sesuaikan path ini dengan lokasi file yaml\u001b[39;00m\n\u001b[1;32m----> 5\u001b[0m \u001b[38;5;28;01mwith\u001b[39;00m \u001b[38;5;28;43mopen\u001b[39;49m\u001b[43m(\u001b[49m\u001b[43mpath_yaml\u001b[49m\u001b[43m,\u001b[49m\u001b[43m \u001b[49m\u001b[38;5;124;43m'\u001b[39;49m\u001b[38;5;124;43mr\u001b[39;49m\u001b[38;5;124;43m'\u001b[39;49m\u001b[43m)\u001b[49m \u001b[38;5;28;01mas\u001b[39;00m file:\n\u001b[0;32m      6\u001b[0m     data \u001b[38;5;241m=\u001b[39m yaml\u001b[38;5;241m.\u001b[39msafe_load(file)\n\u001b[0;32m      8\u001b[0m \u001b[38;5;28mprint\u001b[39m(data)\n",
      "File \u001b[1;32mc:\\Users\\LENOVO\\miniconda3\\lib\\site-packages\\IPython\\core\\interactiveshell.py:310\u001b[0m, in \u001b[0;36m_modified_open\u001b[1;34m(file, *args, **kwargs)\u001b[0m\n\u001b[0;32m    303\u001b[0m \u001b[38;5;28;01mif\u001b[39;00m file \u001b[38;5;129;01min\u001b[39;00m {\u001b[38;5;241m0\u001b[39m, \u001b[38;5;241m1\u001b[39m, \u001b[38;5;241m2\u001b[39m}:\n\u001b[0;32m    304\u001b[0m     \u001b[38;5;28;01mraise\u001b[39;00m \u001b[38;5;167;01mValueError\u001b[39;00m(\n\u001b[0;32m    305\u001b[0m         \u001b[38;5;124mf\u001b[39m\u001b[38;5;124m\"\u001b[39m\u001b[38;5;124mIPython won\u001b[39m\u001b[38;5;124m'\u001b[39m\u001b[38;5;124mt let you open fd=\u001b[39m\u001b[38;5;132;01m{\u001b[39;00mfile\u001b[38;5;132;01m}\u001b[39;00m\u001b[38;5;124m by default \u001b[39m\u001b[38;5;124m\"\u001b[39m\n\u001b[0;32m    306\u001b[0m         \u001b[38;5;124m\"\u001b[39m\u001b[38;5;124mas it is likely to crash IPython. If you know what you are doing, \u001b[39m\u001b[38;5;124m\"\u001b[39m\n\u001b[0;32m    307\u001b[0m         \u001b[38;5;124m\"\u001b[39m\u001b[38;5;124myou can use builtins\u001b[39m\u001b[38;5;124m'\u001b[39m\u001b[38;5;124m open.\u001b[39m\u001b[38;5;124m\"\u001b[39m\n\u001b[0;32m    308\u001b[0m     )\n\u001b[1;32m--> 310\u001b[0m \u001b[38;5;28;01mreturn\u001b[39;00m io_open(file, \u001b[38;5;241m*\u001b[39margs, \u001b[38;5;241m*\u001b[39m\u001b[38;5;241m*\u001b[39mkwargs)\n",
      "\u001b[1;31mFileNotFoundError\u001b[0m: [Errno 2] No such file or directory: 'data.yaml'"
     ]
    }
   ],
   "source": [
    "# import yaml\n",
    "\n",
    "# path_yaml = 'data.yaml' # sesuaikan path ini dengan lokasi file yaml\n",
    "\n",
    "# with open(path_yaml, 'r') as file:\n",
    "#     data = yaml.safe_load(file)\n",
    "\n",
    "# print(data)\n",
    "\n",
    "# print(\"Train folder:\", data['train'])\n",
    "# print(\"Val folder:\", data['val'])\n",
    "# print(\"Test folder:\", data['test'])\n",
    "# print(\"Number of classes:\", data['nc'])\n",
    "# print(\"Class names:\", data['names'])\n",
    "# print(\"Roboflow workspace:\", data.get('roboflow', {}).get('workspace'))\n",
    "\n",
    "\n"
   ]
  }
 ],
 "metadata": {
  "kernelspec": {
   "display_name": "base",
   "language": "python",
   "name": "python3"
  },
  "language_info": {
   "codemirror_mode": {
    "name": "ipython",
    "version": 3
   },
   "file_extension": ".py",
   "mimetype": "text/x-python",
   "name": "python",
   "nbconvert_exporter": "python",
   "pygments_lexer": "ipython3",
   "version": "3.9.20"
  }
 },
 "nbformat": 4,
 "nbformat_minor": 5
}
